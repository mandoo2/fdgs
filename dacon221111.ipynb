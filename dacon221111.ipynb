{
  "nbformat": 4,
  "nbformat_minor": 0,
  "metadata": {
    "colab": {
      "provenance": [],
      "authorship_tag": "ABX9TyObw39/mFW2x4BFnGSLt6+H",
      "include_colab_link": true
    },
    "kernelspec": {
      "name": "python3",
      "display_name": "Python 3"
    },
    "language_info": {
      "name": "python"
    }
  },
  "cells": [
    {
      "cell_type": "markdown",
      "metadata": {
        "id": "view-in-github",
        "colab_type": "text"
      },
      "source": [
        "<a href=\"https://colab.research.google.com/github/mandoo2/machineleaning_study/blob/main/dacon221111.ipynb\" target=\"_parent\"><img src=\"https://colab.research.google.com/assets/colab-badge.svg\" alt=\"Open In Colab\"/></a>"
      ]
    },
    {
      "cell_type": "code",
      "execution_count": 3,
      "metadata": {
        "id": "CgoeOCr1QylD"
      },
      "outputs": [],
      "source": [
        "import numpy as np"
      ]
    },
    {
      "cell_type": "code",
      "source": [
        "arrayy1 = np.array([1, 2, 3])\n",
        "print(arrayy1)\n",
        "print(\"arrayy1's array shape: \", arrayy1.shape)\n",
        "\n",
        "arrayy2 = np.array([[1, 2, 3], [4, 5, 6]])\n",
        "print(arrayy2)\n",
        "print(\"arrayy2's array shape: \", arrayy2.shape)\n",
        "\n",
        "arrayy3 = np.array([[[1, 2, 3], [4, 5, 6], [7, 8, 9]]])\n",
        "print(arrayy3)\n",
        "print(\"arrayy3's array shape: \", arrayy3.shape)"
      ],
      "metadata": {
        "colab": {
          "base_uri": "https://localhost:8080/"
        },
        "id": "A_VX213OQ1SY",
        "outputId": "1c69808a-2e82-4e29-923a-b156b700a588"
      },
      "execution_count": 8,
      "outputs": [
        {
          "output_type": "stream",
          "name": "stdout",
          "text": [
            "[1 2 3]\n",
            "arrayy1's array shape:  (3,)\n",
            "[[1 2 3]\n",
            " [4 5 6]]\n",
            "arrayy2's array shape:  (2, 3)\n",
            "[[[1 2 3]\n",
            "  [4 5 6]\n",
            "  [7 8 9]]]\n",
            "arrayy3's array shape:  (1, 3, 3)\n"
          ]
        }
      ]
    },
    {
      "cell_type": "code",
      "source": [
        "list1 = [1.5, 2.4, 3.7]\n",
        "print(type(list1))\n",
        "\n",
        "array1 = np.array(list1)\n",
        "print(type(array1))\n",
        "\n",
        "print(array1, array1.dtype)"
      ],
      "metadata": {
        "colab": {
          "base_uri": "https://localhost:8080/"
        },
        "id": "-HF2r4djVIuz",
        "outputId": "747cffbe-793f-4cbf-ed89-dc589912f416"
      },
      "execution_count": 9,
      "outputs": [
        {
          "output_type": "stream",
          "name": "stdout",
          "text": [
            "<class 'list'>\n",
            "<class 'numpy.ndarray'>\n",
            "[1.5 2.4 3.7] float64\n"
          ]
        }
      ]
    },
    {
      "cell_type": "code",
      "source": [
        "list2 = [1, 2, 'test']\n",
        "array2 = np.array(list2)\n",
        "print(array2, array2.dtype)"
      ],
      "metadata": {
        "colab": {
          "base_uri": "https://localhost:8080/"
        },
        "id": "OqoA5ThmVowX",
        "outputId": "082c197d-42c2-4179-9d72-9b5715ffe852"
      },
      "execution_count": 10,
      "outputs": [
        {
          "output_type": "stream",
          "name": "stdout",
          "text": [
            "['1' '2' 'test'] <U21\n"
          ]
        }
      ]
    },
    {
      "cell_type": "code",
      "source": [
        "array_int = np.array([1, 2, 3])\n",
        "print(array_int, array_int.dtype)\n",
        "\n",
        "array_float = array_int.astype('float64')\n",
        "print(array_float, array_float.dtype)"
      ],
      "metadata": {
        "colab": {
          "base_uri": "https://localhost:8080/"
        },
        "id": "9Gl09c-sYdxG",
        "outputId": "d3abac3e-7c4b-452f-a06c-d4d281455112"
      },
      "execution_count": 11,
      "outputs": [
        {
          "output_type": "stream",
          "name": "stdout",
          "text": [
            "[1 2 3] int64\n",
            "[1. 2. 3.] float64\n"
          ]
        }
      ]
    },
    {
      "cell_type": "code",
      "source": [
        "sequence_array = np.arange(10)\n",
        "print(sequence_array)"
      ],
      "metadata": {
        "colab": {
          "base_uri": "https://localhost:8080/"
        },
        "id": "PUlCD3j8YsSt",
        "outputId": "d7fae4d6-6eb3-4572-b47f-832cb3097c73"
      },
      "execution_count": 14,
      "outputs": [
        {
          "output_type": "stream",
          "name": "stdout",
          "text": [
            "[0 1 2 3 4 5 6 7 8 9]\n"
          ]
        }
      ]
    },
    {
      "cell_type": "code",
      "source": [
        "zeros1 = np.zeros((3,2))\n",
        "print(zeros1)"
      ],
      "metadata": {
        "colab": {
          "base_uri": "https://localhost:8080/"
        },
        "id": "E8A9cObGYzkV",
        "outputId": "b7fa152d-8da2-4dd2-b46e-ddbe5ab7a3c2"
      },
      "execution_count": 15,
      "outputs": [
        {
          "output_type": "stream",
          "name": "stdout",
          "text": [
            "[[0. 0.]\n",
            " [0. 0.]\n",
            " [0. 0.]]\n"
          ]
        }
      ]
    },
    {
      "cell_type": "code",
      "source": [
        "zeros2 = np.zeros([3, 2])\n",
        "print(zeros2)"
      ],
      "metadata": {
        "colab": {
          "base_uri": "https://localhost:8080/"
        },
        "id": "DNsynWgWY-FW",
        "outputId": "ef65a5c4-acb5-442c-9a17-774a1a047802"
      },
      "execution_count": 17,
      "outputs": [
        {
          "output_type": "stream",
          "name": "stdout",
          "text": [
            "[[0. 0.]\n",
            " [0. 0.]\n",
            " [0. 0.]]\n"
          ]
        }
      ]
    },
    {
      "cell_type": "code",
      "source": [
        "ones1 = np.ones((3, 2))\n",
        "print(ones1)"
      ],
      "metadata": {
        "colab": {
          "base_uri": "https://localhost:8080/"
        },
        "id": "wsMZOW9aZB-2",
        "outputId": "ee590999-6552-4deb-8091-7099ba550ca6"
      },
      "execution_count": 18,
      "outputs": [
        {
          "output_type": "stream",
          "name": "stdout",
          "text": [
            "[[1. 1.]\n",
            " [1. 1.]\n",
            " [1. 1.]]\n"
          ]
        }
      ]
    },
    {
      "cell_type": "code",
      "source": [
        "ones2 = np.ones([3, 2])\n",
        "print(ones2)"
      ],
      "metadata": {
        "colab": {
          "base_uri": "https://localhost:8080/"
        },
        "id": "1wD406hVZ9o9",
        "outputId": "d1f0dcad-61cc-4f7f-d577-11497a00f0e6"
      },
      "execution_count": 19,
      "outputs": [
        {
          "output_type": "stream",
          "name": "stdout",
          "text": [
            "[[1. 1.]\n",
            " [1. 1.]\n",
            " [1. 1.]]\n"
          ]
        }
      ]
    },
    {
      "cell_type": "code",
      "source": [
        "rd = np.random.randn(3, 2)\n",
        "print(rd)"
      ],
      "metadata": {
        "colab": {
          "base_uri": "https://localhost:8080/"
        },
        "id": "lR2oJ9wxaA9u",
        "outputId": "e3926eec-8d63-41b2-c418-0205b5ded92d"
      },
      "execution_count": 20,
      "outputs": [
        {
          "output_type": "stream",
          "name": "stdout",
          "text": [
            "[[ 1.45644852  1.59548631]\n",
            " [ 0.27074867  1.37514083]\n",
            " [-0.10424886 -0.48826534]]\n"
          ]
        }
      ]
    },
    {
      "cell_type": "code",
      "source": [
        "array1 = np.arange(10)\n",
        "print(\"array1:\\n\", array1)\n",
        "\n",
        "array2 = array1.reshape(2, 5)\n",
        "print(\"array2:\\n\", array2)"
      ],
      "metadata": {
        "colab": {
          "base_uri": "https://localhost:8080/"
        },
        "id": "Fz6l_aKmaEnW",
        "outputId": "68c4522b-4548-4aa0-c019-dfff41abcdcd"
      },
      "execution_count": 21,
      "outputs": [
        {
          "output_type": "stream",
          "name": "stdout",
          "text": [
            "array1:\n",
            " [0 1 2 3 4 5 6 7 8 9]\n",
            "array2:\n",
            " [[0 1 2 3 4]\n",
            " [5 6 7 8 9]]\n"
          ]
        }
      ]
    },
    {
      "cell_type": "code",
      "source": [
        "array1 = np.arange(8)\n",
        "\n",
        "array3d = array1.reshape((2, 2, 2))\n",
        "print(\"array3d: \\n\", array3d)\n",
        "\n",
        "array2d = array3d.reshape(-1, 1)\n",
        "print(\"array2d:\\n\", array2d)"
      ],
      "metadata": {
        "colab": {
          "base_uri": "https://localhost:8080/"
        },
        "id": "QOqInhZDaOx-",
        "outputId": "fa416b99-eadc-4d5e-ae92-095132bbd31e"
      },
      "execution_count": 22,
      "outputs": [
        {
          "output_type": "stream",
          "name": "stdout",
          "text": [
            "array3d: \n",
            " [[[0 1]\n",
            "  [2 3]]\n",
            "\n",
            " [[4 5]\n",
            "  [6 7]]]\n",
            "array2d:\n",
            " [[0]\n",
            " [1]\n",
            " [2]\n",
            " [3]\n",
            " [4]\n",
            " [5]\n",
            " [6]\n",
            " [7]]\n"
          ]
        }
      ]
    },
    {
      "cell_type": "code",
      "source": [
        "array1 = np.arange(start = 1, stop = 10)\n",
        "print('array1:', array1)\n",
        "\n",
        "print('array1[2]:', array1[2])\n",
        "\n",
        "print('맨 뒤의 값:', array1[-1], '\\n맨 뒤에서 두 번째 값:', array1[-2])"
      ],
      "metadata": {
        "colab": {
          "base_uri": "https://localhost:8080/"
        },
        "id": "BXPET9_hallF",
        "outputId": "6ddfcee4-fee9-45c1-8f0e-4e903c6cf166"
      },
      "execution_count": 23,
      "outputs": [
        {
          "output_type": "stream",
          "name": "stdout",
          "text": [
            "array1: [1 2 3 4 5 6 7 8 9]\n",
            "array1[2]: 3\n",
            "맨 뒤의 값: 9 \n",
            "맨 뒤에서 두 번째 값: 8\n"
          ]
        }
      ]
    },
    {
      "cell_type": "code",
      "source": [
        "array1[0] = 9\n",
        "print(array1)"
      ],
      "metadata": {
        "colab": {
          "base_uri": "https://localhost:8080/"
        },
        "id": "7Z4aPz9ka8sl",
        "outputId": "beb915c7-685b-4c4e-d619-309dd4ad93b4"
      },
      "execution_count": 24,
      "outputs": [
        {
          "output_type": "stream",
          "name": "stdout",
          "text": [
            "[9 2 3 4 5 6 7 8 9]\n"
          ]
        }
      ]
    },
    {
      "cell_type": "code",
      "source": [
        "array2 = array1.reshape(3, 3)\n",
        "print(array2)\n",
        "\n",
        "print('1행 1열의 값', array2[0, 0])\n",
        "print('1행 2열의 값', array2[0, 1])"
      ],
      "metadata": {
        "colab": {
          "base_uri": "https://localhost:8080/"
        },
        "id": "Fe6ZcKDabDkN",
        "outputId": "e7195a26-9c53-4c69-849d-8458141476e2"
      },
      "execution_count": 25,
      "outputs": [
        {
          "output_type": "stream",
          "name": "stdout",
          "text": [
            "[[9 2 3]\n",
            " [4 5 6]\n",
            " [7 8 9]]\n",
            "1행 1열의 값 9\n",
            "1행 2열의 값 2\n"
          ]
        }
      ]
    },
    {
      "cell_type": "code",
      "source": [
        "array4 = np.random.randn(2, 2, 4, 5).round(3)\n",
        "print(array4)\n",
        "print(\"-\"*45)\n",
        "print('\\n array4[0, 0]: \\n', array4[0, 0])\n",
        "print('\\n array4[0, 1]: \\n', array4[0, 1])\n",
        "print('\\n array4[1, 0]: \\n', array4[1, 0])\n",
        "print('\\n array4[1, 1]: \\n', array4[1, 1])\n",
        "print(\"-\"*45)\n",
        "print('\\n array4[0][1][3]:\\n', array4[0][1][3])\n",
        "print('\\n array4[0][1][3][4]:\\n', array4[0, 1, 3, 4])\n"
      ],
      "metadata": {
        "colab": {
          "base_uri": "https://localhost:8080/"
        },
        "id": "eLREx0bZbOOF",
        "outputId": "1f97bae8-3908-4121-c6f7-58c2dacc69aa"
      },
      "execution_count": 27,
      "outputs": [
        {
          "output_type": "stream",
          "name": "stdout",
          "text": [
            "[[[[ 0.986  0.28   0.406 -1.172 -1.004]\n",
            "   [-0.209  0.602  0.697 -0.201  1.947]\n",
            "   [ 0.401 -0.117  1.469  1.437  0.476]\n",
            "   [-1.084 -0.39   0.601  0.404 -0.764]]\n",
            "\n",
            "  [[ 0.056  0.248  0.642  1.266 -0.547]\n",
            "   [ 2.644 -0.702  2.135 -2.325 -1.915]\n",
            "   [ 0.437  0.258  0.872  0.594  1.119]\n",
            "   [-1.346  0.731 -0.73   0.132  0.398]]]\n",
            "\n",
            "\n",
            " [[[ 1.118 -0.638  0.505 -1.864  0.166]\n",
            "   [ 0.893  0.251  0.718  0.654 -1.315]\n",
            "   [-1.322 -0.438 -0.163  1.395 -1.341]\n",
            "   [ 0.537 -0.418  1.12  -0.41  -0.178]]\n",
            "\n",
            "  [[-0.843 -0.261  0.092  1.417  0.346]\n",
            "   [-0.18  -0.015 -0.763  1.293  0.351]\n",
            "   [ 0.006 -0.181  0.548 -2.595 -1.236]\n",
            "   [-0.37  -1.706  0.01  -0.77  -0.186]]]]\n",
            "---------------------------------------------\n",
            "\n",
            " array4[0, 0]: \n",
            " [[ 0.986  0.28   0.406 -1.172 -1.004]\n",
            " [-0.209  0.602  0.697 -0.201  1.947]\n",
            " [ 0.401 -0.117  1.469  1.437  0.476]\n",
            " [-1.084 -0.39   0.601  0.404 -0.764]]\n",
            "\n",
            " array4[0, 1]: \n",
            " [[ 0.056  0.248  0.642  1.266 -0.547]\n",
            " [ 2.644 -0.702  2.135 -2.325 -1.915]\n",
            " [ 0.437  0.258  0.872  0.594  1.119]\n",
            " [-1.346  0.731 -0.73   0.132  0.398]]\n",
            "\n",
            " array4[1, 0]: \n",
            " [[ 1.118 -0.638  0.505 -1.864  0.166]\n",
            " [ 0.893  0.251  0.718  0.654 -1.315]\n",
            " [-1.322 -0.438 -0.163  1.395 -1.341]\n",
            " [ 0.537 -0.418  1.12  -0.41  -0.178]]\n",
            "\n",
            " array4[1, 1]: \n",
            " [[-0.843 -0.261  0.092  1.417  0.346]\n",
            " [-0.18  -0.015 -0.763  1.293  0.351]\n",
            " [ 0.006 -0.181  0.548 -2.595 -1.236]\n",
            " [-0.37  -1.706  0.01  -0.77  -0.186]]\n",
            "---------------------------------------------\n",
            "\n",
            " array4[0][1][3]:\n",
            " [-1.346  0.731 -0.73   0.132  0.398]\n",
            "\n",
            " array4[0][1][3][4]:\n",
            " 0.398\n"
          ]
        }
      ]
    },
    {
      "cell_type": "code",
      "source": [
        "array1 = np.arange(start = 1, stop = 10)\n",
        "print(array1[0:2])"
      ],
      "metadata": {
        "colab": {
          "base_uri": "https://localhost:8080/"
        },
        "id": "yggY6ejgbY9l",
        "outputId": "80bb46c9-3139-4df4-f949-84fa7e8cf2b9"
      },
      "execution_count": 29,
      "outputs": [
        {
          "output_type": "stream",
          "name": "stdout",
          "text": [
            "[1 2]\n"
          ]
        }
      ]
    },
    {
      "cell_type": "code",
      "source": [
        "print(array1,'\\n')\n",
        "print(array1[:5])\n",
        "print(array1[3:])\n",
        "print(array1[:])"
      ],
      "metadata": {
        "colab": {
          "base_uri": "https://localhost:8080/"
        },
        "id": "RKJID1w0cU1t",
        "outputId": "09798b84-8984-45fb-c398-16eb280417fa"
      },
      "execution_count": 30,
      "outputs": [
        {
          "output_type": "stream",
          "name": "stdout",
          "text": [
            "[1 2 3 4 5 6 7 8 9] \n",
            "\n",
            "[1 2 3 4 5]\n",
            "[4 5 6 7 8 9]\n",
            "[1 2 3 4 5 6 7 8 9]\n"
          ]
        }
      ]
    },
    {
      "cell_type": "code",
      "source": [
        "array1 = array1.reshape(3, 3)\n",
        "print(array1)\n",
        "print('-'*10)\n",
        "\n",
        "print(array1[0:2])"
      ],
      "metadata": {
        "colab": {
          "base_uri": "https://localhost:8080/"
        },
        "id": "oFnAQPp8chEl",
        "outputId": "26bf1715-cff0-4717-f7c7-6209f56f0aa6"
      },
      "execution_count": 31,
      "outputs": [
        {
          "output_type": "stream",
          "name": "stdout",
          "text": [
            "[[1 2 3]\n",
            " [4 5 6]\n",
            " [7 8 9]]\n",
            "----------\n",
            "[[1 2 3]\n",
            " [4 5 6]]\n"
          ]
        }
      ]
    },
    {
      "cell_type": "code",
      "source": [
        "print(array1)\n",
        "print(\"-\"*10)\n",
        "\n",
        "print(array1[0:3, 1:3])"
      ],
      "metadata": {
        "colab": {
          "base_uri": "https://localhost:8080/"
        },
        "id": "fFPSn_C4crwk",
        "outputId": "d9fb2490-f440-41a6-8c99-95f155712fc0"
      },
      "execution_count": 32,
      "outputs": [
        {
          "output_type": "stream",
          "name": "stdout",
          "text": [
            "[[1 2 3]\n",
            " [4 5 6]\n",
            " [7 8 9]]\n",
            "----------\n",
            "[[2 3]\n",
            " [5 6]\n",
            " [8 9]]\n"
          ]
        }
      ]
    },
    {
      "cell_type": "code",
      "source": [
        "print(array1)\n",
        "print('-'*10)\n",
        "\n",
        "print(array1[1:, :2])"
      ],
      "metadata": {
        "colab": {
          "base_uri": "https://localhost:8080/"
        },
        "id": "yAL4MqjXc3bt",
        "outputId": "64d420e3-9060-4593-aea9-2acb12b49f2c"
      },
      "execution_count": 33,
      "outputs": [
        {
          "output_type": "stream",
          "name": "stdout",
          "text": [
            "[[1 2 3]\n",
            " [4 5 6]\n",
            " [7 8 9]]\n",
            "----------\n",
            "[[4 5]\n",
            " [7 8]]\n"
          ]
        }
      ]
    },
    {
      "cell_type": "code",
      "source": [
        "print(array1)\n",
        "print('-'*10)\n",
        "\n",
        "print(array1[:3, 0])"
      ],
      "metadata": {
        "colab": {
          "base_uri": "https://localhost:8080/"
        },
        "id": "tDSIVtXoc-9d",
        "outputId": "72b6b72c-a872-4be1-f9b7-8dc0f5fb569b"
      },
      "execution_count": 34,
      "outputs": [
        {
          "output_type": "stream",
          "name": "stdout",
          "text": [
            "[[1 2 3]\n",
            " [4 5 6]\n",
            " [7 8 9]]\n",
            "----------\n",
            "[1 4 7]\n"
          ]
        }
      ]
    },
    {
      "cell_type": "code",
      "source": [
        "print(array1)\n",
        "print('-'*10)\n",
        "\n",
        "print(array1[[0,2]])\n",
        "print('-'*10)\n",
        "\n",
        "print(array1[[0,2], 1])\n",
        "print('-'*10)\n",
        "\n",
        "print(array1[[0,2], 0:2])"
      ],
      "metadata": {
        "colab": {
          "base_uri": "https://localhost:8080/"
        },
        "id": "o5n-g4jMdAGl",
        "outputId": "e566be71-e18e-461e-882f-5ea82cc8baf7"
      },
      "execution_count": 35,
      "outputs": [
        {
          "output_type": "stream",
          "name": "stdout",
          "text": [
            "[[1 2 3]\n",
            " [4 5 6]\n",
            " [7 8 9]]\n",
            "----------\n",
            "[[1 2 3]\n",
            " [7 8 9]]\n",
            "----------\n",
            "[2 8]\n",
            "----------\n",
            "[[1 2]\n",
            " [7 8]]\n"
          ]
        }
      ]
    },
    {
      "cell_type": "code",
      "source": [
        "boolean = array1[array1>3]\n",
        "\n",
        "print('array1 > 3인 불린 인덱싱 결과 값:',  boolean)\n",
        "\n",
        "print('객체반환: \\n', array1>3)"
      ],
      "metadata": {
        "colab": {
          "base_uri": "https://localhost:8080/"
        },
        "id": "C3MrVi7gdFWV",
        "outputId": "4687c41d-a4d7-4546-f34d-e6294c1308bb"
      },
      "execution_count": 36,
      "outputs": [
        {
          "output_type": "stream",
          "name": "stdout",
          "text": [
            "array1 > 3인 불린 인덱싱 결과 값: [4 5 6 7 8 9]\n",
            "객체반환: \n",
            " [[False False False]\n",
            " [ True  True  True]\n",
            " [ True  True  True]]\n"
          ]
        }
      ]
    },
    {
      "cell_type": "code",
      "source": [
        "org_array = np.array([4, 2, 8, 6])\n",
        "\n",
        "print('원본 행렬: ', org_array)\n",
        "print('np.sort 호출 후 반환된 행렬: ', np.sort(org_array))\n",
        "print('np.sort 호출 후 원본 행렬: ', org_array)\n",
        "print('ndarray.sort 호출 후 반환된 행렬:', org_array.sort())\n",
        "print('ndarray.sort 호출 후 원본 행렬:', org_array)"
      ],
      "metadata": {
        "colab": {
          "base_uri": "https://localhost:8080/"
        },
        "id": "SlsaoYgldHHF",
        "outputId": "83b1bd2a-300b-4343-9761-2cebfe848d8e"
      },
      "execution_count": 37,
      "outputs": [
        {
          "output_type": "stream",
          "name": "stdout",
          "text": [
            "원본 행렬:  [4 2 8 6]\n",
            "np.sort 호출 후 반환된 행렬:  [2 4 6 8]\n",
            "np.sort 호출 후 원본 행렬:  [4 2 8 6]\n",
            "ndarray.sort 호출 후 반환된 행렬: None\n",
            "ndarray.sort 호출 후 원본 행렬: [2 4 6 8]\n"
          ]
        }
      ]
    },
    {
      "cell_type": "code",
      "source": [
        "print('내림차순 정렬: ', np.sort(org_array)[::-1])\n"
      ],
      "metadata": {
        "colab": {
          "base_uri": "https://localhost:8080/"
        },
        "id": "Clfny02hdJDt",
        "outputId": "9232cdbf-85b8-4f4f-e82e-f040f9b8ba24"
      },
      "execution_count": 38,
      "outputs": [
        {
          "output_type": "stream",
          "name": "stdout",
          "text": [
            "내림차순 정렬:  [8 6 4 2]\n"
          ]
        }
      ]
    },
    {
      "cell_type": "code",
      "source": [
        "array2 = np.array([[8, 1], [7,12]])\n",
        "print(array2)\n",
        "\n",
        "print(np.sort(array2, axis = 1))\n",
        "print(np.sort(array2, axis = 0))"
      ],
      "metadata": {
        "colab": {
          "base_uri": "https://localhost:8080/"
        },
        "id": "-PN199DhdRyV",
        "outputId": "f3fe22b6-38ca-4b8a-d10a-c82a03286c68"
      },
      "execution_count": 41,
      "outputs": [
        {
          "output_type": "stream",
          "name": "stdout",
          "text": [
            "[[ 8  1]\n",
            " [ 7 12]]\n",
            "[[ 1  8]\n",
            " [ 7 12]]\n",
            "[[ 7  1]\n",
            " [ 8 12]]\n"
          ]
        }
      ]
    },
    {
      "cell_type": "code",
      "source": [
        "org_array = np.array([4, 2, 8, 6])\n",
        "print(np.argsort(org_array))"
      ],
      "metadata": {
        "colab": {
          "base_uri": "https://localhost:8080/"
        },
        "id": "kUfkGUWedawt",
        "outputId": "a98159be-2f52-4fe0-9228-1fdd48e67779"
      },
      "execution_count": 42,
      "outputs": [
        {
          "output_type": "stream",
          "name": "stdout",
          "text": [
            "[1 0 3 2]\n"
          ]
        }
      ]
    },
    {
      "cell_type": "code",
      "source": [
        "print(np.argsort(org_array)[::-1])"
      ],
      "metadata": {
        "colab": {
          "base_uri": "https://localhost:8080/"
        },
        "id": "a8WIgIf6dqOd",
        "outputId": "f08eac96-931f-4869-ed2d-e99c27b6b829"
      },
      "execution_count": 43,
      "outputs": [
        {
          "output_type": "stream",
          "name": "stdout",
          "text": [
            "[2 3 0 1]\n"
          ]
        }
      ]
    },
    {
      "cell_type": "code",
      "source": [
        "a = np.array([[1, 2, 3], [4, 5, 6]])\n",
        "print(a)\n",
        "\n",
        "b = np.array([[7, 8], [9, 10], [11, 12]])\n",
        "print(b)\n",
        "\n",
        "print(np.dot(a, b))"
      ],
      "metadata": {
        "colab": {
          "base_uri": "https://localhost:8080/"
        },
        "id": "4-sADSq1d1Fl",
        "outputId": "00fdc4f2-154d-46c7-def2-98086bb1a0b1"
      },
      "execution_count": 44,
      "outputs": [
        {
          "output_type": "stream",
          "name": "stdout",
          "text": [
            "[[1 2 3]\n",
            " [4 5 6]]\n",
            "[[ 7  8]\n",
            " [ 9 10]\n",
            " [11 12]]\n",
            "[[ 58  64]\n",
            " [139 154]]\n"
          ]
        }
      ]
    },
    {
      "cell_type": "code",
      "source": [
        "a= np.array([[1, 2], [3, 4]])\n",
        "print(a)\n",
        "print(np.transpose(a))"
      ],
      "metadata": {
        "colab": {
          "base_uri": "https://localhost:8080/"
        },
        "id": "BJ6RSMY_eCCZ",
        "outputId": "0ce50baf-c883-423c-ab35-bef6897d1238"
      },
      "execution_count": 45,
      "outputs": [
        {
          "output_type": "stream",
          "name": "stdout",
          "text": [
            "[[1 2]\n",
            " [3 4]]\n",
            "[[1 3]\n",
            " [2 4]]\n"
          ]
        }
      ]
    },
    {
      "cell_type": "code",
      "source": [
        "a = np.array([[11, 12, 13], [2, 3, 4]])\n",
        "print(a)\n",
        "print(a+a)"
      ],
      "metadata": {
        "colab": {
          "base_uri": "https://localhost:8080/"
        },
        "id": "i0WUpv-gePa8",
        "outputId": "192888ac-93c9-44cc-a6c2-2856d92ee9b1"
      },
      "execution_count": 46,
      "outputs": [
        {
          "output_type": "stream",
          "name": "stdout",
          "text": [
            "[[11 12 13]\n",
            " [ 2  3  4]]\n",
            "[[22 24 26]\n",
            " [ 4  6  8]]\n"
          ]
        }
      ]
    },
    {
      "cell_type": "code",
      "source": [
        "print(a)\n",
        "print(a + 13)\n",
        "print(a - 13)\n",
        "print(a * 3)"
      ],
      "metadata": {
        "colab": {
          "base_uri": "https://localhost:8080/"
        },
        "id": "CpJR5UwWeV5c",
        "outputId": "81235dd2-4497-4a23-fa35-d4769ed259a8"
      },
      "execution_count": 47,
      "outputs": [
        {
          "output_type": "stream",
          "name": "stdout",
          "text": [
            "[[11 12 13]\n",
            " [ 2  3  4]]\n",
            "[[24 25 26]\n",
            " [15 16 17]]\n",
            "[[ -2  -1   0]\n",
            " [-11 -10  -9]]\n",
            "[[33 36 39]\n",
            " [ 6  9 12]]\n"
          ]
        }
      ]
    },
    {
      "cell_type": "code",
      "source": [
        "a1 = np.array([[1, 2, 3], [4, 5, 6], [7, 8, 9]])\n",
        "a2 = np.array([[1, 2, 3,], [1, 2, 3], [1, 2, 3]])\n",
        "\n",
        "print(a1, a2, a1+a2)"
      ],
      "metadata": {
        "colab": {
          "base_uri": "https://localhost:8080/"
        },
        "id": "qkpdQIhxebS0",
        "outputId": "5f1edb6c-8d3e-4712-cf28-297ddaf21dc1"
      },
      "execution_count": 49,
      "outputs": [
        {
          "output_type": "stream",
          "name": "stdout",
          "text": [
            "[[1 2 3]\n",
            " [4 5 6]\n",
            " [7 8 9]] [[1 2 3]\n",
            " [1 2 3]\n",
            " [1 2 3]] [[ 2  4  6]\n",
            " [ 5  7  9]\n",
            " [ 8 10 12]]\n"
          ]
        }
      ]
    },
    {
      "cell_type": "code",
      "source": [
        "broad = np.arange(10).reshape(5, 2)\n",
        "casting = np.arange(10, 12)\n",
        "\n",
        "print(broad)\n",
        "print(\"-\"*10)\n",
        "print(casting)\n",
        "print('-'*10)\n",
        "print(broad+casting)"
      ],
      "metadata": {
        "colab": {
          "base_uri": "https://localhost:8080/"
        },
        "id": "VkB8B3seepqV",
        "outputId": "2aef9c9e-5c1b-4c4c-836f-a15af1ed3d5f"
      },
      "execution_count": 50,
      "outputs": [
        {
          "output_type": "stream",
          "name": "stdout",
          "text": [
            "[[0 1]\n",
            " [2 3]\n",
            " [4 5]\n",
            " [6 7]\n",
            " [8 9]]\n",
            "----------\n",
            "[10 11]\n",
            "----------\n",
            "[[10 12]\n",
            " [12 14]\n",
            " [14 16]\n",
            " [16 18]\n",
            " [18 20]]\n"
          ]
        }
      ]
    },
    {
      "cell_type": "code",
      "source": [
        "print(a)\n",
        "print(a.sum())"
      ],
      "metadata": {
        "colab": {
          "base_uri": "https://localhost:8080/"
        },
        "id": "s1UQ-j2Pe6KE",
        "outputId": "57d23aef-0b9f-4306-ec26-34d17fbe7580"
      },
      "execution_count": 51,
      "outputs": [
        {
          "output_type": "stream",
          "name": "stdout",
          "text": [
            "[[11 12 13]\n",
            " [ 2  3  4]]\n",
            "45\n"
          ]
        }
      ]
    },
    {
      "cell_type": "code",
      "source": [
        "print(a.sum(axis=1))\n",
        "print(a.sum(axis=0))"
      ],
      "metadata": {
        "colab": {
          "base_uri": "https://localhost:8080/"
        },
        "id": "yzgXs6R7fBI8",
        "outputId": "481394db-e631-401c-8df6-ec9ad5a66346"
      },
      "execution_count": 52,
      "outputs": [
        {
          "output_type": "stream",
          "name": "stdout",
          "text": [
            "[36  9]\n",
            "[13 15 17]\n"
          ]
        }
      ]
    },
    {
      "cell_type": "code",
      "source": [
        "print(a.mean())"
      ],
      "metadata": {
        "colab": {
          "base_uri": "https://localhost:8080/"
        },
        "id": "GBcV4mucfE-d",
        "outputId": "77c12ca6-f3d6-4e5f-b165-f6bb2eff24aa"
      },
      "execution_count": 53,
      "outputs": [
        {
          "output_type": "stream",
          "name": "stdout",
          "text": [
            "7.5\n"
          ]
        }
      ]
    },
    {
      "cell_type": "code",
      "source": [
        "print(a.prod())"
      ],
      "metadata": {
        "colab": {
          "base_uri": "https://localhost:8080/"
        },
        "id": "P4PUlMqKfH_c",
        "outputId": "d187ae4e-85e3-48dc-e79d-302f79d8bb67"
      },
      "execution_count": 54,
      "outputs": [
        {
          "output_type": "stream",
          "name": "stdout",
          "text": [
            "41184\n"
          ]
        }
      ]
    },
    {
      "cell_type": "code",
      "source": [
        "print(a.max())\n",
        "print(a.min())"
      ],
      "metadata": {
        "colab": {
          "base_uri": "https://localhost:8080/"
        },
        "id": "dO-2buY3fJMV",
        "outputId": "019884f8-b148-4239-8aad-935407c1ad06"
      },
      "execution_count": 55,
      "outputs": [
        {
          "output_type": "stream",
          "name": "stdout",
          "text": [
            "13\n",
            "2\n"
          ]
        }
      ]
    },
    {
      "cell_type": "code",
      "source": [
        "print(a)\n",
        "print(a[1].max())\n",
        "print(a[0].min())"
      ],
      "metadata": {
        "colab": {
          "base_uri": "https://localhost:8080/"
        },
        "id": "3aeSZRKFfLUF",
        "outputId": "019ef172-049d-459e-a69f-2576c5558eac"
      },
      "execution_count": 56,
      "outputs": [
        {
          "output_type": "stream",
          "name": "stdout",
          "text": [
            "[[11 12 13]\n",
            " [ 2  3  4]]\n",
            "4\n",
            "11\n"
          ]
        }
      ]
    },
    {
      "cell_type": "code",
      "source": [
        "print(a.argmax())\n",
        "print(a.argmin())"
      ],
      "metadata": {
        "colab": {
          "base_uri": "https://localhost:8080/"
        },
        "id": "u_9aQVFAfPVd",
        "outputId": "ef7325e3-2784-415f-8328-faae3b82e2eb"
      },
      "execution_count": 57,
      "outputs": [
        {
          "output_type": "stream",
          "name": "stdout",
          "text": [
            "2\n",
            "3\n"
          ]
        }
      ]
    },
    {
      "cell_type": "code",
      "source": [
        "print(a.std())\n",
        "print(a.var())"
      ],
      "metadata": {
        "colab": {
          "base_uri": "https://localhost:8080/"
        },
        "id": "6GYcmDfbfSY0",
        "outputId": "46bebd20-90b3-4e4f-f2c0-5349856559eb"
      },
      "execution_count": 58,
      "outputs": [
        {
          "output_type": "stream",
          "name": "stdout",
          "text": [
            "4.573474244670748\n",
            "20.916666666666668\n"
          ]
        }
      ]
    },
    {
      "cell_type": "code",
      "source": [],
      "metadata": {
        "id": "L7-J8eZ4fVIM"
      },
      "execution_count": null,
      "outputs": []
    }
  ]
}